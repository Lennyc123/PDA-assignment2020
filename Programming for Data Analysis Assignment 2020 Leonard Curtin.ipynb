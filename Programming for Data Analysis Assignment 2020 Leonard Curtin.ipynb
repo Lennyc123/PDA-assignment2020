{
 "cells": [
  {
   "cell_type": "markdown",
   "metadata": {},
   "source": [
    "# Programming for Data Analysis Assignment 2020, Authored by Leonard Curtin"
   ]
  },
  {
   "cell_type": "markdown",
   "metadata": {},
   "source": [
    "## The overarching aim of the following assignment is to convey the manner in which the _numpy.random_ package within _Python_ can be utilised."
   ]
  },
  {
   "cell_type": "markdown",
   "metadata": {},
   "source": [
    "***"
   ]
  },
  {
   "cell_type": "markdown",
   "metadata": {},
   "source": [
    "# An explanation of the overall purpose of the package."
   ]
  },
  {
   "cell_type": "markdown",
   "metadata": {},
   "source": [
    "\"NumPy is the fundamental package for scientific computing in Python\". [1]\n",
    "\n",
    "Numpy.random acts as a sub package of the NumPy library. Numpy.random allows for the creation of pseudo random numbers to occur. This process occurs through the usage of both a BitGenerator and a Generator. [2]\n",
    "BitGenerators are objects that create random numbers.\n",
    "Generators utitilse the sequences from BitGenerators to sample from a variety of probability distrubtions.\n",
    "\n",
    "The ability to create pseudo random numbers, is highly beneficial in allowing one to run simulations of a proposed data set i.e. mimicing the values of an environment can allow one to compare and contrast with their preconcevived notions in relation to how a specific set of variables may interact with eachother. Simulation envrionments can potientally allow for more accurate predictive forcasting to occur.\n",
    "\n"
   ]
  },
  {
   "cell_type": "markdown",
   "metadata": {},
   "source": [
    "***"
   ]
  },
  {
   "cell_type": "markdown",
   "metadata": {},
   "source": [
    "# Usage of the “simple random data” and “Permutations” functions"
   ]
  },
  {
   "cell_type": "code",
   "execution_count": 1,
   "metadata": {},
   "outputs": [],
   "source": [
    "#import numpy package\n",
    "import numpy as np\n",
    "#Importing the numpy.random subpackage\n",
    "from numpy.random import default_rng"
   ]
  },
  {
   "cell_type": "markdown",
   "metadata": {},
   "source": [
    "## Sample Random Data Commands"
   ]
  },
  {
   "cell_type": "markdown",
   "metadata": {},
   "source": [
    "### Integers Parameter"
   ]
  },
  {
   "cell_type": "code",
   "execution_count": 2,
   "metadata": {},
   "outputs": [
    {
     "data": {
      "text/plain": [
       "array([ 5,  2,  1, 10, 10,  4,  9,  2,  0,  6,  1,  0,  0,  4,  2,  4,  3,\n",
       "        5,  9,  5], dtype=int64)"
      ]
     },
     "execution_count": 2,
     "metadata": {},
     "output_type": "execute_result"
    }
   ],
   "source": [
    "#Usage of new default generator\n",
    "rng = np.random.default_rng()\n",
    "#Endpoint = True, allows for the high value of range to be utilised.\n",
    "rng.integers(0, 10, size=20, endpoint = True)"
   ]
  },
  {
   "cell_type": "code",
   "execution_count": 3,
   "metadata": {},
   "outputs": [
    {
     "data": {
      "text/plain": [
       "array([2, 9, 4, 3, 6, 6, 5, 4, 5, 1, 1, 6, 3, 7, 6, 5, 9, 3, 5, 7],\n",
       "      dtype=int64)"
      ]
     },
     "execution_count": 3,
     "metadata": {},
     "output_type": "execute_result"
    }
   ],
   "source": [
    "rng = np.random.default_rng()\n",
    "#Endpoint = False, is the default boolean value i.e. 10 is not included in contrast to the code stated above\n",
    "rng.integers(0, 10, size=20)"
   ]
  },
  {
   "cell_type": "markdown",
   "metadata": {},
   "source": [
    "The above code highlights the functioning of the integers parameter, the parameters passed within this code, allows for the creation of an array with random numbers between 0 and 10 to be outputted 10 times. Endpoint = True, will allow for the value of the high parameter to be included within the output. Calling the same code to be outputted twice, depicts that the code is expressing the integers in a random fashion."
   ]
  },
  {
   "cell_type": "markdown",
   "metadata": {},
   "source": [
    "### Random Parameter"
   ]
  },
  {
   "cell_type": "code",
   "execution_count": 4,
   "metadata": {},
   "outputs": [
    {
     "data": {
      "text/plain": [
       "array([0.94376244, 1.60445651, 0.19129774, 0.0748982 , 1.70870178,\n",
       "       1.45045634, 1.23549557, 0.93618222, 1.18030073, 0.80911842,\n",
       "       0.76932517, 0.99918888, 0.24331645, 0.5270777 , 1.33417826,\n",
       "       0.75330316, 0.90854567, 0.94532713, 0.98192526, 0.50431029,\n",
       "       1.2403069 , 1.74366089, 0.98016836, 1.88892774, 0.16597404,\n",
       "       1.36337337, 1.50628482, 0.14177099, 0.88896977, 0.97298321])"
      ]
     },
     "execution_count": 4,
     "metadata": {},
     "output_type": "execute_result"
    }
   ],
   "source": [
    "rng = np.random.default_rng()\n",
    "2 * rng.random(30)"
   ]
  },
  {
   "cell_type": "code",
   "execution_count": 5,
   "metadata": {},
   "outputs": [
    {
     "data": {
      "text/plain": [
       "float"
      ]
     },
     "execution_count": 5,
     "metadata": {},
     "output_type": "execute_result"
    }
   ],
   "source": [
    "type(rng.random())"
   ]
  },
  {
   "cell_type": "markdown",
   "metadata": {},
   "source": [
    "Random float values are ouputted ranging from 0 to the value assigned before the rng.random() code e.g. 2.0"
   ]
  },
  {
   "cell_type": "code",
   "execution_count": 6,
   "metadata": {},
   "outputs": [
    {
     "data": {
      "text/plain": [
       "array([6.42447033, 6.35020125, 6.47674282, 6.25225443, 6.94080404,\n",
       "       5.06646668, 6.10109623, 6.11988872, 6.54192601, 6.97294325,\n",
       "       5.08118082, 5.56147377, 5.34466872, 5.92717619, 6.93667031,\n",
       "       5.60133553, 6.09579715, 5.81083424, 6.98940997, 5.77272956,\n",
       "       6.12222141, 5.01836066, 5.99181844, 6.69801778, 6.38795165,\n",
       "       6.28396175, 6.0705408 , 5.85292133, 6.84504612, 5.07166966])"
      ]
     },
     "execution_count": 6,
     "metadata": {},
     "output_type": "execute_result"
    }
   ],
   "source": [
    "rng = np.random.default_rng()\n",
    "2 * rng.random(30) + 5"
   ]
  },
  {
   "cell_type": "markdown",
   "metadata": {},
   "source": [
    "The value provided after the rng.random() code e.g. 5 will act as an ancor point, within this example float values will be outputted ranging from 5 plus or minus 2. i.e. from 5.0 to 6.9"
   ]
  },
  {
   "cell_type": "markdown",
   "metadata": {},
   "source": [
    "### Choice Parameter"
   ]
  },
  {
   "cell_type": "code",
   "execution_count": 36,
   "metadata": {},
   "outputs": [
    {
     "data": {
      "text/plain": [
       "array([ 8,  7, 10, 13,  4, 10,  1,  5, 11, 10,  3, 12,  7, 17, 18, 10, 15,\n",
       "       17, 12,  7,  0,  1,  0,  9, 15, 12,  2, 19,  9,  9, 19,  8, 18, 16,\n",
       "        9,  3, 18, 11, 15, 12, 18, 15, 15,  9,  9,  4, 12, 15, 15, 11,  1,\n",
       "        9,  9,  7, 12, 19, 16, 14, 10,  0,  6,  6, 18, 12,  5,  2,  4,  1,\n",
       "        8,  5, 14,  0, 11, 15,  3, 15,  9,  9,  6,  8,  6, 12,  3,  3,  9,\n",
       "       17, 19,  8,  3, 13,  1,  0, 19,  7, 12, 10,  4, 16,  4, 19],\n",
       "      dtype=int64)"
      ]
     },
     "execution_count": 36,
     "metadata": {},
     "output_type": "execute_result"
    }
   ],
   "source": [
    "rng = np.random.default_rng()\n",
    "#Creation of an array with 100 numbers ranging from 0 to 20\n",
    "rng.choice(20, 100)"
   ]
  },
  {
   "cell_type": "markdown",
   "metadata": {},
   "source": [
    "The Choice Parameter, outputs a sample of random numbers. The above code sets a range between 0 and 20, then a sample of random numbers between this range is printed 100 times within an array."
   ]
  },
  {
   "cell_type": "markdown",
   "metadata": {},
   "source": [
    "### Bytes Parameter"
   ]
  },
  {
   "cell_type": "code",
   "execution_count": 8,
   "metadata": {},
   "outputs": [
    {
     "data": {
      "text/plain": [
       "b'\"\\xcf\\x180\\xba\\x12#\\xef%v'"
      ]
     },
     "execution_count": 8,
     "metadata": {},
     "output_type": "execute_result"
    }
   ],
   "source": [
    "rng = np.random.default_rng()\n",
    "rng.bytes(10)"
   ]
  },
  {
   "cell_type": "code",
   "execution_count": 9,
   "metadata": {},
   "outputs": [
    {
     "data": {
      "text/plain": [
       "b'\\xb68\\xab;\\xec~i\\xd3\\xc4\\x15\\xa7\\xdb\\x1c\\xbf\\xdeYJs\\xf6J'"
      ]
     },
     "execution_count": 9,
     "metadata": {},
     "output_type": "execute_result"
    }
   ],
   "source": [
    "rng = np.random.default_rng()\n",
    "rng.bytes(20)"
   ]
  },
  {
   "cell_type": "markdown",
   "metadata": {},
   "source": [
    "Random bytes are outputted."
   ]
  },
  {
   "cell_type": "markdown",
   "metadata": {},
   "source": [
    "## Permutations Commands - "
   ]
  },
  {
   "cell_type": "markdown",
   "metadata": {},
   "source": [
    "### Shuffle Parameter"
   ]
  },
  {
   "cell_type": "code",
   "execution_count": 10,
   "metadata": {},
   "outputs": [
    {
     "data": {
      "text/plain": [
       "array([0, 1, 2, 3, 4, 5, 6, 7, 8, 9])"
      ]
     },
     "execution_count": 10,
     "metadata": {},
     "output_type": "execute_result"
    }
   ],
   "source": [
    "rng = np.random.default_rng()\n",
    "list1 = np.arange(10)\n",
    "#rng.shuffle(list1)\n",
    "\n",
    "list1"
   ]
  },
  {
   "cell_type": "code",
   "execution_count": 11,
   "metadata": {},
   "outputs": [
    {
     "data": {
      "text/plain": [
       "array([7, 0, 6, 9, 5, 2, 3, 4, 1, 8])"
      ]
     },
     "execution_count": 11,
     "metadata": {},
     "output_type": "execute_result"
    }
   ],
   "source": [
    "rng = np.random.default_rng()\n",
    "list1 = np.arange(10)\n",
    "rng.shuffle(list1)\n",
    "\n",
    "list1"
   ]
  },
  {
   "cell_type": "markdown",
   "metadata": {},
   "source": [
    "The shuffle parameter takes the contents of a list or array and shuffles its order i.e. the contents remain the same however they are rearranged or reordered.\n",
    "The above code highlights, the inital creation of an array and implementation of the rng.shuffle command to rearrange its order."
   ]
  },
  {
   "cell_type": "markdown",
   "metadata": {},
   "source": [
    "### Permutation Parameter"
   ]
  },
  {
   "cell_type": "code",
   "execution_count": 12,
   "metadata": {},
   "outputs": [
    {
     "data": {
      "text/plain": [
       "array([0, 1, 2, 3, 4, 5, 6, 7, 8, 9])"
      ]
     },
     "execution_count": 12,
     "metadata": {},
     "output_type": "execute_result"
    }
   ],
   "source": [
    "rng = np.random.default_rng()\n",
    "np.arange(10)\n",
    "#rng.permutation(10)"
   ]
  },
  {
   "cell_type": "code",
   "execution_count": 13,
   "metadata": {},
   "outputs": [
    {
     "data": {
      "text/plain": [
       "array([0, 5, 4, 9, 1, 8, 7, 2, 3, 6])"
      ]
     },
     "execution_count": 13,
     "metadata": {},
     "output_type": "execute_result"
    }
   ],
   "source": [
    "rng = np.random.default_rng()\n",
    "np.arange(10)\n",
    "rng.permutation(10)"
   ]
  },
  {
   "cell_type": "markdown",
   "metadata": {},
   "source": [
    "The contents of the orignial array, is shuffled when the rng.permutation is implemented."
   ]
  },
  {
   "cell_type": "code",
   "execution_count": 14,
   "metadata": {},
   "outputs": [
    {
     "data": {
      "text/plain": [
       "array([25, 20,  5, 10, 15])"
      ]
     },
     "execution_count": 14,
     "metadata": {},
     "output_type": "execute_result"
    }
   ],
   "source": [
    "rng = np.random.default_rng()\n",
    "rng.permutation([5, 10, 15, 20, 25])"
   ]
  },
  {
   "cell_type": "markdown",
   "metadata": {},
   "source": [
    "The original list provided is shuffled when usage of the rng.permutations command occurs."
   ]
  },
  {
   "cell_type": "markdown",
   "metadata": {},
   "source": [
    "***"
   ]
  },
  {
   "cell_type": "markdown",
   "metadata": {},
   "source": [
    "## Usage and purpose of the various “Distrubitions” functions"
   ]
  },
  {
   "cell_type": "markdown",
   "metadata": {},
   "source": [
    "### Normal (Gaussian) Distrubition"
   ]
  },
  {
   "cell_type": "code",
   "execution_count": 38,
   "metadata": {},
   "outputs": [
    {
     "data": {
      "text/plain": [
       "array([52.50384276, 43.98100011, 48.21164807, 66.5015227 , 47.19972461,\n",
       "       54.46494886, 66.7908855 , 57.3438471 , 54.0105894 , 55.28522335,\n",
       "       53.81817299, 62.91951147, 45.46297319, 55.52780374, 56.52696861,\n",
       "       60.34952189, 54.55188912, 55.50697276, 63.6810484 , 56.84033659,\n",
       "       53.81324251, 53.47028073, 48.8673995 , 53.94516946, 46.04170282,\n",
       "       51.31302546, 61.91883469, 52.92580054, 55.25948166, 63.3432703 ,\n",
       "       49.89571689, 57.99182915, 64.87583449, 56.03515261, 53.58987581,\n",
       "       53.72478318, 51.25546979, 54.05303325, 51.57047088, 50.32716765,\n",
       "       56.63493972, 55.18842781, 55.71510347, 49.25641464, 49.57022312,\n",
       "       58.43402746, 52.03660135, 49.77823552, 50.4934242 , 49.54730038])"
      ]
     },
     "execution_count": 38,
     "metadata": {},
     "output_type": "execute_result"
    }
   ],
   "source": [
    "rng = np.random.default_rng()\n",
    "grades = rng.normal(loc=55, scale=5, size=50)\n",
    "grades"
   ]
  },
  {
   "cell_type": "code",
   "execution_count": 39,
   "metadata": {},
   "outputs": [
    {
     "data": {
      "image/png": "[encoded data removed]",
      "text/plain": [
       "<Figure size 432x288 with 1 Axes>"
      ]
     },
     "metadata": {
      "needs_background": "light"
     },
     "output_type": "display_data"
    }
   ],
   "source": [
    "import matplotlib.pyplot as plt\n",
    "#Creation of histogram, with lables for aid\n",
    "plt.hist(grades)\n",
    "plt.title('Depiction of Average Grades From Two Classes of 25')\n",
    "plt.xlabel('Grade Percentage')\n",
    "plt.ylabel('Number of Students')\n",
    "plt.show()"
   ]
  },
  {
   "cell_type": "markdown",
   "metadata": {},
   "source": [
    "The creation of the above dataset, is to simulate the potiental grades that students would achieve within a formal assessment examination. The data is depicted using a Normal (Gaussian) Distribution, more commonly known in lay terms as a \"bell curve\". Within this particular instance, the mean value has been assigned to a grade percentage of \"55\" and the standard deviation (spread) has been assigned a value of \"5\".\n",
    "\n",
    "Particular attention has been paid to the sample size of this simulated data, one must be aware of the misrepresenation or data skewing that could occur, due to the sample size."
   ]
  },
  {
   "cell_type": "markdown",
   "metadata": {},
   "source": [
    "### Chi-Square Distribution"
   ]
  },
  {
   "cell_type": "code",
   "execution_count": 17,
   "metadata": {},
   "outputs": [
    {
     "data": {
      "text/plain": [
       "array([2.03011628e+00, 1.66941453e+00, 4.54691541e+00, 1.03955969e+00,\n",
       "       1.20057737e+00, 2.05571944e-01, 2.58828575e-01, 6.09266366e+00,\n",
       "       1.11246704e+00, 4.97335123e-01, 6.26139687e-02, 4.31839494e-02,\n",
       "       5.80986447e-01, 1.44542135e-01, 3.05826930e+00, 1.68656552e+00,\n",
       "       5.45699218e-01, 2.91246476e+00, 1.45635693e+00, 1.09728247e-01,\n",
       "       9.70062044e-03, 2.24330831e+00, 4.32883355e-02, 3.75802683e-03,\n",
       "       3.14600819e+00, 9.21726709e-01, 2.23533583e+00, 4.15219293e-01,\n",
       "       1.90560181e-05, 1.25945218e+00, 7.52496838e-01, 2.70392014e-01,\n",
       "       2.96725651e-03, 1.04740584e+00, 3.58563988e+00, 7.62478741e-03,\n",
       "       3.50362508e+00, 4.42061855e-01, 1.02786809e-04, 5.12202486e-01,\n",
       "       1.41543176e+00, 6.92373095e-02, 4.50718411e-01, 2.88032219e+00,\n",
       "       1.93311964e-01, 6.76625796e-01, 1.59247214e+00, 7.62105803e-01,\n",
       "       1.66113335e-02, 3.21765931e+00, 1.60936940e-02, 2.50358350e-01,\n",
       "       1.00104808e+00, 8.73007623e-01, 1.32320424e+00, 7.75668715e+00,\n",
       "       4.38416099e-01, 1.25060309e+00, 2.62760221e+00, 2.64159352e-02,\n",
       "       4.70358861e+00, 1.71046323e+00, 5.24893148e-01, 3.23423065e+00,\n",
       "       2.84088094e-01, 4.07335708e-01, 7.17168072e-01, 4.01490772e-01,\n",
       "       6.52932221e-01, 1.37335398e-01, 7.37297848e-01, 9.87299043e-02,\n",
       "       2.77580612e+00, 8.94135611e-03, 6.37308469e-04, 2.65207248e+00,\n",
       "       6.75603719e-01, 1.67344745e+00, 1.24780950e+00, 4.69875741e-01,\n",
       "       9.40071661e-01, 7.49912927e-02, 1.35316004e-02, 2.47501082e+00,\n",
       "       9.48593078e-02, 8.98398679e-01, 1.04976570e-01, 6.14564079e-03,\n",
       "       3.87163460e-01, 5.23724860e-01, 2.47210228e-01, 7.71207515e-01,\n",
       "       4.37383602e-02, 8.80493558e-02, 5.14889035e-01, 7.35596097e-01,\n",
       "       3.57110844e+00, 1.02944337e+00, 5.44356247e-01, 2.93001683e-01,\n",
       "       1.66517330e+00, 2.82869344e-01, 4.17141429e+00, 1.33150080e+00,\n",
       "       5.79047167e-01, 2.38454203e-05, 4.52046141e-01, 9.64436716e-01,\n",
       "       1.19080337e+00, 2.66763471e+00, 4.01643011e+00, 8.78637442e-01,\n",
       "       1.42227869e-01, 1.89353637e-04, 3.33312960e-01, 1.51536352e+00,\n",
       "       3.21117544e+00, 9.19626201e-01, 5.78635533e-01, 5.02169414e-01,\n",
       "       9.13115227e-02, 3.89410405e+00, 4.37744596e-01, 6.25005684e-01,\n",
       "       3.26074626e-02, 3.19923427e-01, 3.78128951e-02, 6.07166736e-01,\n",
       "       8.60197669e-01, 8.48856941e-01, 2.45952004e+00, 9.69154175e-02,\n",
       "       1.25750620e-02, 2.19282295e+00, 1.73524666e-01, 4.15479671e-02,\n",
       "       3.17437175e-01, 1.65397839e+00, 7.39586955e-01, 2.63517027e-01,\n",
       "       9.15723952e-03, 3.01436023e-02, 1.22780909e+00, 1.40995022e+00,\n",
       "       4.15181746e-01, 2.47250104e-01, 3.33976049e-01, 6.70519873e-01,\n",
       "       2.02689471e-01, 2.53406110e+00, 4.21178078e-01, 2.06002153e-01,\n",
       "       2.75147199e-02, 3.53944541e+00, 1.63409834e+00, 2.43272183e-02,\n",
       "       1.45206198e-01, 1.98577975e-02, 6.57757321e+00, 7.79489123e+00,\n",
       "       1.04330205e-01, 1.14747563e-02, 4.05528910e-01, 6.75040431e-01,\n",
       "       2.02862416e+00, 1.89687083e+00, 2.18658515e-02, 1.68974734e-02,\n",
       "       1.38495825e-01, 5.68196681e-01, 1.42189742e+00, 1.61096162e+00,\n",
       "       9.67223094e-01, 8.65845327e-03, 2.39707094e-01, 7.54720894e-03,\n",
       "       7.18617664e-01, 4.73872024e+00, 3.45248938e-01, 3.04616964e-01,\n",
       "       4.48382803e-01, 1.44423708e+00, 1.54795024e+00, 7.09177420e-02,\n",
       "       9.41752634e-01, 2.77402954e-01, 7.42649723e-01, 6.03806056e+00,\n",
       "       1.14861160e+00, 7.38688980e-01, 4.18648663e-01, 3.14828630e-01,\n",
       "       5.71982097e+00, 1.47909463e-03, 1.87645115e-02, 2.76504672e-01,\n",
       "       2.33095812e+00, 1.78084550e-01, 1.80458116e+00, 2.55739059e+00,\n",
       "       1.14784287e+00, 1.09217193e+00, 7.26320949e-01, 1.09183884e+00,\n",
       "       1.11320768e-01, 1.81345636e-01, 1.19593273e-01, 6.96842344e-01,\n",
       "       1.88780539e-01, 1.00886636e-01, 1.49951298e-03, 1.17240760e-01,\n",
       "       4.77655926e-02, 8.28365583e-03, 1.02496947e-01, 1.74918114e+00,\n",
       "       2.21080248e-02, 5.12220385e-02, 1.60647550e+00, 4.68964747e-01,\n",
       "       6.35929431e-02, 1.37387927e-02, 3.60060408e-01, 3.17556839e-02,\n",
       "       2.07047484e-01, 3.02887339e-01, 9.84158486e-02, 2.20041464e+00,\n",
       "       6.01170870e-01, 2.52297635e-02, 2.03280337e-01, 2.23817630e-02,\n",
       "       4.31532496e+00, 5.47348059e-01, 4.91758878e-01, 3.86333895e-01,\n",
       "       9.78750286e-01, 3.85865840e+00, 7.20655410e-02, 1.13286486e+00,\n",
       "       1.76224440e-01, 2.48529630e+00, 1.57961010e-01, 7.07691200e+00,\n",
       "       2.40821574e-03, 5.39860253e-02, 2.87975355e+00, 2.19735702e-01,\n",
       "       1.53634169e+00, 1.24353761e-03, 3.37590221e-01, 2.96526006e-02,\n",
       "       2.36594697e-01, 1.55150385e+00, 1.78771110e+00, 6.18611074e-02,\n",
       "       7.12866297e-01, 4.80907675e-01, 9.24840985e-02, 2.30314293e-01,\n",
       "       7.08247931e-01, 1.15714717e+00, 5.76602204e-01, 4.18388953e-01,\n",
       "       4.77642164e-02, 7.51507196e-02, 1.26729058e-01, 2.75320670e-01,\n",
       "       1.26416083e+00, 2.56152833e-02, 5.90386278e-01, 3.95410497e-04,\n",
       "       1.12779099e+01, 2.56061897e-01, 2.57494405e+00, 5.03056423e-02,\n",
       "       6.43948720e-01, 3.69564611e-02, 4.91462439e-01, 3.78588415e-01,\n",
       "       2.23077354e+00, 1.38091204e+00, 2.35566405e+00, 4.34101152e-01,\n",
       "       2.04794232e+00, 1.22777711e+00, 1.14278404e-01, 1.16614352e-02,\n",
       "       4.42114397e-01, 3.20366644e-01, 1.43273923e+00, 3.34184344e-01,\n",
       "       3.42337828e-01, 3.01491844e-01, 1.00934284e+00, 3.48314676e-01,\n",
       "       1.59811226e-01, 2.40340473e+00, 8.10323973e-02, 3.96690025e-01,\n",
       "       2.78430301e+00, 1.52542907e+00, 1.40742116e+00, 4.83143536e-01,\n",
       "       1.75534687e-02, 4.70334938e-02, 1.18147854e+00, 9.37469665e-01,\n",
       "       2.93552912e+00, 1.21548581e+00, 2.25990772e-01, 2.47160220e-01,\n",
       "       1.23199122e+00, 5.26563918e-01, 1.04041820e+00, 1.70707200e+00,\n",
       "       1.08556834e+00, 1.09486156e+00, 8.48357255e-02, 4.33801750e-01,\n",
       "       2.19906242e-01, 3.69456941e-03, 2.37081841e-03, 5.38641050e-03,\n",
       "       3.46911972e-01, 5.29877683e+00, 8.21821168e-01, 2.30339065e+00,\n",
       "       2.44915383e-02, 2.54517826e+00, 1.35277977e+00, 2.81654760e+00,\n",
       "       3.24029859e-01, 1.50094730e+00, 3.65583703e-01, 1.97278247e+00,\n",
       "       8.98547392e-01, 2.35232280e-02, 5.29973348e-02, 2.22827939e-03,\n",
       "       5.20921051e-01, 5.70242602e-03, 6.65435289e-02, 4.14780226e-01,\n",
       "       3.70907237e+00, 4.50214816e-01, 5.90338791e-01, 4.85782591e-01,\n",
       "       1.40874868e-03, 1.07697816e-02, 6.25814007e-01, 1.98513214e+00,\n",
       "       5.50581831e-02, 2.40398172e-02, 4.26143435e+00, 9.53159872e-01,\n",
       "       1.14390716e-02, 7.11991932e-01, 4.33040840e-02, 5.71223885e-01,\n",
       "       6.33831437e-02, 1.49293750e+00, 3.93410112e-03, 2.92395333e-01,\n",
       "       1.00097808e+00, 3.90093751e-01, 5.12751084e-01, 3.47120531e+00,\n",
       "       7.69970207e-03, 2.05994012e-01, 6.77717072e-01, 1.39623332e-01,\n",
       "       1.17307233e-01, 3.37497989e+00, 2.41111395e-01, 1.42142234e-01,\n",
       "       2.62358559e+00, 9.62513626e-01, 1.18737592e-03, 8.40105946e-03,\n",
       "       2.39892700e-01, 2.83687654e-01, 4.75589908e+00, 1.03948027e+00,\n",
       "       4.16756367e-02, 3.31380211e+00, 8.29169449e-01, 1.79007451e-01,\n",
       "       1.22801987e-01, 1.01427948e-01, 1.25992840e+00, 3.99867665e+00,\n",
       "       2.90723850e-02, 1.43854298e+00, 3.55618655e+00, 1.01836984e+00,\n",
       "       3.34487412e-01, 3.36020041e-01, 1.92719917e+00, 1.16807324e+00,\n",
       "       3.74744385e-01, 1.61370145e+00, 3.39001510e-02, 1.30046390e+00,\n",
       "       3.12057947e-02, 3.62610629e-01, 1.42263779e-01, 2.11513188e-01,\n",
       "       1.19004952e+00, 4.40595766e-02, 1.69509321e-01, 6.54859082e-02,\n",
       "       6.53906052e-02, 1.41892209e-02, 9.78653186e-01, 2.40426722e-01,\n",
       "       4.32216323e-01, 1.72645149e+00, 8.36504784e-01, 5.85359966e+00,\n",
       "       1.07068054e+00, 6.04545641e-02, 2.86373554e+00, 1.19018156e+00,\n",
       "       2.62876240e+00, 1.05965872e+00, 6.45798637e+00, 2.48737207e+00,\n",
       "       4.39513246e+00, 9.83903694e-03, 2.73162686e-01, 8.46786648e+00,\n",
       "       1.40849029e-01, 1.86941008e-01, 3.48714575e+00, 1.29856075e-01,\n",
       "       1.07676914e+00, 5.97695731e-01, 8.05082306e-01, 8.12295274e-01,\n",
       "       9.39724211e-02, 2.26102258e+00, 6.12782921e-01, 5.62682588e-01,\n",
       "       1.24728858e-03, 2.88589610e-02, 2.32421353e-01, 7.00006545e-01,\n",
       "       1.42836275e+00, 1.27147317e+01, 3.86530457e-02, 5.81444170e-01,\n",
       "       7.31004978e-02, 6.57130957e-01, 5.15795989e-01, 4.04582612e-02,\n",
       "       6.46268278e-02, 9.19743923e-02, 1.12303914e+00, 2.57327472e-01,\n",
       "       1.00228641e-01, 1.81476600e+00, 3.28962831e-01, 1.15865730e-01,\n",
       "       3.23733764e-01, 1.68249815e-01, 3.49391276e-01, 5.35020412e-01,\n",
       "       4.84275069e-01, 7.09880218e-01, 3.69317512e+00, 6.19121083e-01,\n",
       "       7.75305993e-01, 8.37632650e-01, 4.89087780e-01, 3.43017890e-01,\n",
       "       1.25921698e-02, 3.89791332e-04, 4.66515506e+00, 5.35944624e-02,\n",
       "       2.53819041e-01, 1.35307955e+00, 2.59799262e-01, 2.05329572e+00,\n",
       "       3.06467895e+00, 2.34796844e-03, 1.59892318e-01, 1.15715502e-01,\n",
       "       3.56698667e-01, 3.98282837e-02, 3.09133031e-01, 1.16974580e+00,\n",
       "       2.51016294e+00, 4.09988828e-01, 1.91363245e-02, 1.21708091e+00,\n",
       "       1.58419980e-01, 9.46099567e-02, 1.82161604e+00, 1.39905155e-01,\n",
       "       2.40464403e-03, 1.96159971e+00, 1.24183669e+00, 9.05886640e-01,\n",
       "       1.76403588e+00, 1.13403371e-01, 6.36979620e-02, 8.36517852e-03,\n",
       "       6.10632126e+00, 9.20639000e-01, 2.16228998e-01, 4.29960451e-01,\n",
       "       2.42378118e-01, 3.10535849e-02, 1.06888845e+00, 5.57335120e-01,\n",
       "       2.64807747e-02, 3.01610355e+00, 1.82739679e-06, 1.45063311e-02,\n",
       "       3.59138486e-01, 1.87384355e+00, 7.17765421e-02, 1.71739189e+00,\n",
       "       7.52469255e-01, 2.54290575e+00, 6.24440203e-02, 3.05153609e-03,\n",
       "       2.09950967e+00, 9.79395349e-01, 1.30361582e-01, 1.41189568e-01,\n",
       "       3.67977599e-01, 1.01053779e+00, 2.51550907e-01, 7.16728438e-02,\n",
       "       2.25732129e+00, 6.48727101e-01, 3.49501400e+00, 2.92201861e-01,\n",
       "       3.44741400e-04, 3.83855036e-03, 4.13599693e-01, 6.89485069e-01,\n",
       "       1.34604585e+00, 4.74278441e-01, 1.09792458e+00, 2.11689748e-02,\n",
       "       1.40926876e-01, 7.93703712e-05, 1.23924306e+00, 2.83786871e-02,\n",
       "       2.22129953e-01, 6.96160837e-01, 2.28231341e-01, 1.52995417e-03,\n",
       "       7.12238605e-01, 4.56627762e-01, 3.18215650e-01, 2.86244792e+00,\n",
       "       1.78079707e-02, 2.88672463e-01, 2.43769345e+00, 8.06578135e-01,\n",
       "       2.00729867e+00, 7.95724054e-03, 7.00816246e-01, 2.29945231e+00,\n",
       "       3.31716903e+00, 1.04580516e-02, 2.99760676e+00, 5.01563523e-01,\n",
       "       7.98565523e-02, 1.24225950e-01, 2.43560262e+00, 3.30755525e-01,\n",
       "       8.08487826e-01, 5.49260995e-01, 2.56679989e-01, 1.22402776e-01,\n",
       "       1.71101298e-02, 7.38153241e-04, 3.80275457e-01, 4.56874102e-02,\n",
       "       5.04361033e-03, 8.99612915e-02, 1.54959975e-01, 6.04245398e-01,\n",
       "       3.65289123e-01, 6.66075029e-01, 2.24139935e-02, 2.43208782e-01,\n",
       "       3.66235903e-02, 8.05227417e-01, 1.09865286e-01, 9.57907204e-03,\n",
       "       2.66131918e+00, 4.13977996e-01, 1.57771680e+00, 1.15634852e+00,\n",
       "       2.12857726e-02, 6.51115804e-01, 2.22813623e-01, 5.90808817e-05,\n",
       "       3.30130752e+00, 2.37362708e+00, 1.64746907e-01, 1.00484479e+00,\n",
       "       1.45579192e+00, 4.72665305e-01, 1.62085809e-04, 1.71222932e+00,\n",
       "       4.90176832e-04, 7.38917086e-03, 5.46168911e+00, 6.77298401e-01,\n",
       "       1.67393730e-02, 8.03152502e-02, 1.95977864e-01, 1.41213154e-01,\n",
       "       1.28312183e-01, 2.62957277e+00, 3.24831090e+00, 5.52542971e-02,\n",
       "       4.36698033e-01, 1.61397937e+00, 4.67593068e-01, 2.63812020e+00,\n",
       "       9.59003240e-01, 3.18072490e-01, 1.98470579e-01, 8.94865551e-01,\n",
       "       3.45804474e+00, 3.29216823e+00, 3.27180762e-04, 5.06401788e-01,\n",
       "       2.64757966e+00, 6.99921758e-01, 3.58484297e-01, 5.20697181e-01,\n",
       "       5.64002979e-01, 4.40975540e-01, 2.26132055e+00, 4.48876695e-01,\n",
       "       6.83954617e-01, 1.09564214e-01, 1.50288685e-01, 1.70241038e+00,\n",
       "       1.49851916e-01, 4.20689824e-01, 6.17908272e+00, 7.28511753e+00,\n",
       "       3.74208264e+00, 2.69515500e+00, 9.65392443e-01, 4.64628368e+00,\n",
       "       8.09217393e-01, 1.26995605e-02, 1.70238986e+00, 4.86104977e-01,\n",
       "       1.61295063e-01, 2.76348919e-01, 2.54341657e-02, 9.95976517e-02,\n",
       "       2.15514914e-01, 3.18913350e-01, 1.22448876e-01, 1.63740243e+00,\n",
       "       8.36835023e-01, 9.52297420e-01, 1.59165473e-01, 1.92145550e+00,\n",
       "       4.82874575e-05, 8.80318086e-02, 1.37483299e+00, 5.50104040e-01,\n",
       "       4.71730439e-01, 6.82684290e-01, 1.04965123e+00, 5.03861409e-01,\n",
       "       4.01929699e+00, 1.18476425e-01, 1.20789419e-01, 9.25332973e-01,\n",
       "       6.29730000e-01, 3.69769066e-01, 3.62584946e-01, 1.14208846e+00,\n",
       "       2.05800626e-01, 3.17597046e-01, 4.39133938e-01, 1.70475283e-01,\n",
       "       5.33792228e-02, 2.04228925e+00, 2.28624035e-01, 2.73244171e-02,\n",
       "       1.05201258e-01, 7.77900923e+00, 3.29584270e-01, 5.77101021e+00,\n",
       "       2.61400304e+00, 1.77431605e+00, 8.66497809e-01, 3.10045905e-02,\n",
       "       1.49514576e+00, 1.24390242e+00, 8.32592649e-04, 1.36896371e+00,\n",
       "       1.87832632e-02, 2.74556414e+00, 6.66312149e-02, 3.62041869e-01,\n",
       "       6.72027281e-01, 5.85738956e-04, 2.94678314e-02, 1.30229448e+00,\n",
       "       5.23036057e+00, 1.39171610e-01, 7.13550123e-02, 3.14979622e-01,\n",
       "       1.11021607e+00, 6.26742244e-02, 4.57552249e-01, 1.27713892e-02,\n",
       "       6.60778780e-01, 5.99401755e-01, 2.92923014e-01, 9.88509479e-01,\n",
       "       1.11780059e-02, 6.88923284e-01, 1.23625910e+00, 1.84621286e-01,\n",
       "       4.22619992e-02, 2.52645933e-01, 8.72841524e-01, 4.79983617e-03,\n",
       "       1.89812942e+00, 2.76981468e+00, 4.31218703e-01, 3.67027568e+00,\n",
       "       3.68856874e-01, 3.65501390e-01, 2.91548715e-02, 1.71677467e+00,\n",
       "       1.00457809e+00, 2.99311530e-01, 1.16024182e+00, 1.36988862e+00,\n",
       "       1.58245598e+00, 4.49452228e-05, 2.57103194e+00, 1.53203283e-02,\n",
       "       8.21970782e-02, 1.51628114e+00, 2.51801699e-01, 5.02605137e-04,\n",
       "       8.57728482e-02, 3.63420168e-03, 7.91649900e-02, 3.81213140e+00,\n",
       "       4.29625700e-03, 8.10381612e-01, 3.83469272e-01, 1.60005319e+00,\n",
       "       9.23705267e-01, 2.37017164e+00, 3.00974177e-01, 6.33542650e-03,\n",
       "       5.71410048e-03, 1.47022178e-01, 7.58224931e-01, 2.74369575e-01,\n",
       "       2.30574202e-01, 2.29048626e+00, 6.04500728e+00, 1.15366612e+00,\n",
       "       4.27059667e-03, 6.24708594e-01, 8.99173522e-03, 3.48213077e+00,\n",
       "       5.94498561e-01, 4.14042543e-01, 7.95926195e-01, 2.19050035e+00,\n",
       "       3.29666259e+00, 1.10674062e-01, 1.00958415e+00, 8.46103285e-01,\n",
       "       1.56914966e-01, 2.21687505e-01, 3.80461874e-03, 4.75189693e+00,\n",
       "       2.59733008e+00, 2.36780278e-01, 4.28774041e-03, 3.57724382e-02,\n",
       "       1.07014180e+00, 1.03087028e+00, 8.04349733e-02, 2.31016504e+00,\n",
       "       7.21119385e-01, 2.13389737e-01, 2.57290379e-01, 1.14385754e-01,\n",
       "       3.39901983e-01, 9.03346210e-01, 2.60685056e-03, 1.49089436e-01,\n",
       "       5.10877100e-02, 1.47923976e-03, 2.49296061e-01, 9.92786549e-03,\n",
       "       1.00762618e-02, 4.05694953e-02, 3.76208453e-01, 9.50405798e-02,\n",
       "       1.69012696e-02, 2.17895243e+00, 1.05682167e+00, 1.89901283e-01,\n",
       "       3.15513759e-04, 2.79459963e+00, 8.00574248e-01, 5.99618762e-01,\n",
       "       1.35708773e+00, 2.32885676e+00, 3.87150158e-01, 8.84961163e-02,\n",
       "       1.45216766e-03, 1.48028495e-02, 4.29762218e+00, 4.88246996e+00,\n",
       "       1.59108329e-01, 3.55834800e+00, 1.67614544e-01, 2.01654069e-03,\n",
       "       3.29965856e+00, 3.28227520e+00, 1.68979109e-01, 6.84176544e-01,\n",
       "       3.50960175e-01, 3.08265403e-04, 1.60831348e-01, 9.13910852e-01,\n",
       "       5.25717906e-01, 2.40242828e-02, 3.87775290e-01, 4.27020566e+00,\n",
       "       5.21219321e+00, 4.26916295e-01, 4.23006964e-01, 8.10390693e-01,\n",
       "       3.80327342e-01, 1.30383915e+00, 5.13888752e-01, 1.01339488e-01,\n",
       "       3.14475300e+00, 2.92808734e-04, 1.73944700e-03, 3.79441255e-02,\n",
       "       2.91340272e+00, 4.01696394e+00, 4.91130149e-01, 1.49667676e+00,\n",
       "       8.26444399e-02, 2.39586345e+00, 4.55868878e+00, 4.39151258e-01,\n",
       "       1.62712456e+00, 8.99964467e-01, 8.60319405e+00, 1.79236505e-01,\n",
       "       1.49096778e+00, 5.81374055e-02, 2.63553923e+00, 9.94587770e-01,\n",
       "       3.51021746e-01, 4.94937120e-01, 2.80132331e-01, 5.39671957e-02,\n",
       "       6.21211106e-01, 2.49741617e-01, 4.03720962e-01, 3.99131748e-01,\n",
       "       9.57074837e-02, 1.62133576e+00, 9.92763122e-01, 2.71678284e+00,\n",
       "       7.38171522e-01, 8.01049269e-01, 1.43397741e+00, 1.92531608e+00,\n",
       "       3.72940665e-02, 2.28763421e-02, 1.35887298e+00, 1.84761659e+00,\n",
       "       2.98830800e-03, 3.04171774e-01, 3.45756439e-01, 2.15772765e-01,\n",
       "       9.69768941e-01, 1.37978229e-02, 7.83195648e-02, 6.51050082e-01,\n",
       "       6.20138446e-02, 6.46102997e-01, 3.25047926e-01, 2.65045484e+00,\n",
       "       1.18706121e-02, 5.41392504e-01, 6.14321993e-01, 4.59615114e+00,\n",
       "       1.85758051e-01, 2.17508309e+00, 4.79494049e-02, 2.80449942e-02,\n",
       "       4.59746780e-01, 9.43539949e-01, 4.01402231e-01, 1.55257010e-01,\n",
       "       2.10850779e+00, 5.45397259e-01, 2.43310482e+00, 1.61180493e-02,\n",
       "       3.30074561e-01, 3.73944092e-01, 7.65603564e-02, 2.94255374e-02,\n",
       "       1.12814231e-02, 6.34134090e-03, 3.85046916e-01, 3.22144005e-02,\n",
       "       1.06524958e+00, 3.35653021e+00, 7.41848021e-01, 3.41187058e+00,\n",
       "       1.55122676e+00, 1.32664590e-02, 1.06091821e-03, 4.54344808e-03,\n",
       "       4.38658859e+00, 2.84418696e-01, 1.33999894e-02, 4.57513476e+00,\n",
       "       1.30869617e+00, 6.23099605e-01, 3.85271318e-01, 6.20305611e-01,\n",
       "       7.87992164e-03, 3.59227745e-01, 3.70134694e-02, 2.03551855e+00,\n",
       "       1.98647424e-02, 1.32765905e-01, 1.50602557e+00, 1.68471443e-01,\n",
       "       1.34963820e+00, 2.13286034e+00, 3.09602601e-01, 6.78720149e-02,\n",
       "       3.96982704e-01, 2.98485947e+00, 1.43755696e+00, 5.91211945e+00,\n",
       "       1.34580833e+00, 7.22523146e-01, 4.85566765e-03, 3.06048932e+00,\n",
       "       9.47137048e-03, 1.12481902e-01, 1.18030866e-01, 1.34558655e+00,\n",
       "       1.87331171e-01, 1.98077423e-01, 1.93251971e+00, 5.51764448e-01,\n",
       "       6.15651461e-01, 2.81434812e-01, 1.20683201e+00, 7.75146771e-01,\n",
       "       8.87617051e-01, 9.00475048e-03, 6.73367154e-01, 8.99471676e-01,\n",
       "       1.26548885e-01, 1.85467413e+00, 2.67449444e-02, 4.28716984e+00,\n",
       "       9.35615439e-02, 5.36460863e+00, 2.47165064e-03, 1.12535535e-01,\n",
       "       7.25106349e-01, 1.92466788e+00, 1.54816531e+00, 7.30160146e-01,\n",
       "       7.19106339e-02, 1.57322373e-01, 5.49419915e-04, 2.71614504e-01])"
      ]
     },
     "execution_count": 17,
     "metadata": {},
     "output_type": "execute_result"
    }
   ],
   "source": [
    "rng = np.random.default_rng()\n",
    "chi1 = rng.chisquare(df=1, size=(1000))\n",
    "chi1"
   ]
  },
  {
   "cell_type": "code",
   "execution_count": 18,
   "metadata": {},
   "outputs": [
    {
     "name": "stderr",
     "output_type": "stream",
     "text": [
      "C:\\Users\\leona\\anaconda3\\lib\\site-packages\\seaborn\\distributions.py:2551: FutureWarning: `distplot` is a deprecated function and will be removed in a future version. Please adapt your code to use either `displot` (a figure-level function with similar flexibility) or `kdeplot` (an axes-level function for kernel density plots).\n",
      "  warnings.warn(msg, FutureWarning)\n"
     ]
    },
    {
     "data": {
      "image/png": "[encoded data removed]",
      "text/plain": [
       "<Figure size 432x288 with 1 Axes>"
      ]
     },
     "metadata": {
      "needs_background": "light"
     },
     "output_type": "display_data"
    }
   ],
   "source": [
    "#Visualization of Chi Square Distribution - reference[4]\n",
    "import matplotlib.pyplot as plt\n",
    "import seaborn as sns\n",
    "\n",
    "rng = np.random.default_rng()\n",
    "#Creation of distplot\n",
    "sns.distplot(rng.chisquare(df=1, size=1000), hist=False)\n",
    "\n",
    "plt.show()\n"
   ]
  },
  {
   "cell_type": "markdown",
   "metadata": {},
   "source": [
    "The chi-square distribution is often used in hypothesis testing.[3] The mean of a Chi Square distribution is its degrees of freedom. Chi Square distributions are positively skewed, with the degree of skew decreasing with increasing degrees of freedom. As the degrees of freedom increases, the Chi Square distribution approaches a normal distribution. [5]"
   ]
  },
  {
   "cell_type": "markdown",
   "metadata": {},
   "source": [
    "### Uniform Distribution"
   ]
  },
  {
   "cell_type": "code",
   "execution_count": 19,
   "metadata": {},
   "outputs": [
    {
     "data": {
      "text/plain": [
       "array([0.30494919, 0.61140452, 0.68033102, ..., 0.75297964, 0.34594939,\n",
       "       0.50706728])"
      ]
     },
     "execution_count": 19,
     "metadata": {},
     "output_type": "execute_result"
    }
   ],
   "source": [
    "rng = np.random.default_rng()\n",
    "histval = rng.uniform(0, 1.0, size=10000)\n",
    "histval"
   ]
  },
  {
   "cell_type": "code",
   "execution_count": 20,
   "metadata": {},
   "outputs": [
    {
     "data": {
      "image/png": "[encoded data removed]",
      "text/plain": [
       "<Figure size 432x288 with 1 Axes>"
      ]
     },
     "metadata": {
      "needs_background": "light"
     },
     "output_type": "display_data"
    }
   ],
   "source": [
    "import matplotlib.pyplot as plt\n",
    "count, bins, ignored = plt.hist(histval, 15, density=True)\n",
    "plt.plot(bins, np.ones_like(bins), linewidth=2, color='r')\n",
    "plt.show()"
   ]
  },
  {
   "cell_type": "markdown",
   "metadata": {},
   "source": [
    "Usage of the uniform distribution, depicts the concept that any value within the given interval is equally likely to be drawn.[6] An example of such an instance being the case, is where one rolls a dice, each face of the dice have the same 1 in 6 chance of being rolled."
   ]
  },
  {
   "cell_type": "code",
   "execution_count": 21,
   "metadata": {},
   "outputs": [
    {
     "data": {
      "text/plain": [
       "array([6, 1, 6, ..., 2, 4, 1], dtype=int64)"
      ]
     },
     "execution_count": 21,
     "metadata": {},
     "output_type": "execute_result"
    }
   ],
   "source": [
    "rng = np.random.default_rng()\n",
    "diceroll = rng.integers(1, 7, size=100000)\n",
    "diceroll"
   ]
  },
  {
   "cell_type": "code",
   "execution_count": 22,
   "metadata": {},
   "outputs": [
    {
     "data": {
      "image/png": "[encoded data removed]",
      "text/plain": [
       "<Figure size 432x288 with 1 Axes>"
      ]
     },
     "metadata": {
      "needs_background": "light"
     },
     "output_type": "display_data"
    }
   ],
   "source": [
    "import matplotlib.pyplot as plt\n",
    "plt.hist(diceroll)\n",
    "plt.show()"
   ]
  },
  {
   "cell_type": "markdown",
   "metadata": {},
   "source": [
    "The above histogram, depicts the 1 in 6 probability that each face of a dice has of being rolled"
   ]
  },
  {
   "cell_type": "markdown",
   "metadata": {},
   "source": [
    "### Bionomial Distribution"
   ]
  },
  {
   "cell_type": "code",
   "execution_count": 23,
   "metadata": {},
   "outputs": [
    {
     "data": {
      "text/plain": [
       "array([0, 0, 1, ..., 1, 1, 0], dtype=int64)"
      ]
     },
     "execution_count": 23,
     "metadata": {},
     "output_type": "execute_result"
    }
   ],
   "source": [
    "rng = np.random.default_rng()\n",
    "n, p = 1, .5  # number of trials, probability of each trial\n",
    "coinflip = rng.binomial(n, p, 10000)\n",
    "coinflip"
   ]
  },
  {
   "cell_type": "code",
   "execution_count": 24,
   "metadata": {},
   "outputs": [
    {
     "data": {
      "image/png": "[encoded data removed]",
      "text/plain": [
       "<Figure size 432x288 with 1 Axes>"
      ]
     },
     "metadata": {
      "needs_background": "light"
     },
     "output_type": "display_data"
    }
   ],
   "source": [
    "import matplotlib.pyplot as plt\n",
    "#Creation of histogram with labels for aid\n",
    "plt.hist(coinflip)\n",
    "plt.xlabel('Where 0=Heads, 1=Tails')\n",
    "plt.ylabel('Number of flips')\n",
    "plt.title(\"Depiction of flipping a coin 10000 times\")\n",
    "plt.show()\n"
   ]
  },
  {
   "cell_type": "markdown",
   "metadata": {},
   "source": [
    "Binomial Distribution, is utilised when there are only two possible outcomes e.g. a coin toss has only two possible outcomes heads or tails as depicted above. Each trial within a binomial distribution is independent i.e. none of the previous trials have an effect on the probability of the next trial.[7]"
   ]
  },
  {
   "cell_type": "markdown",
   "metadata": {},
   "source": [
    "### Multinomial Distrbution"
   ]
  },
  {
   "cell_type": "code",
   "execution_count": 25,
   "metadata": {},
   "outputs": [
    {
     "data": {
      "text/plain": [
       "array([[4, 0, 2, 6, 3, 5]], dtype=int64)"
      ]
     },
     "execution_count": 25,
     "metadata": {},
     "output_type": "execute_result"
    }
   ],
   "source": [
    "rng = np.random.default_rng()\n",
    "#A Dice is rolled 20 times.\n",
    "#The array depicts how many times each face value was recorded. E.g. 1 was rolled \"X\" times, 2 was rolled \"X\" times etc.\n",
    "#Where \"X\" = the output contained within the array.\n",
    "dicethrow = rng.multinomial(20, [1/6.]*6, size=1)\n",
    "dicethrow"
   ]
  },
  {
   "cell_type": "markdown",
   "metadata": {},
   "source": [
    "The multinomial distribution is a multivariate generalization of the binomial distribution.[8] In contrast to the binomial distribution, where there are only two variables e.g. success or fail. The multinomial distrubution can potientally have several variables.\n",
    "\n",
    "The above code depicts a dice being rolled.\n",
    "Each face has a 1 in 6 chance of being rolled. Upon the dice landing on a specific face this number is recorded and logged within the array. Where the values within the array represent how many times each face was landed on."
   ]
  },
  {
   "cell_type": "markdown",
   "metadata": {},
   "source": [
    "### Poisson Distrbution"
   ]
  },
  {
   "cell_type": "code",
   "execution_count": 26,
   "metadata": {},
   "outputs": [],
   "source": [
    "import numpy as np\n",
    "rng = np.random.default_rng()\n",
    "x = rng.poisson(5, 10000)"
   ]
  },
  {
   "cell_type": "code",
   "execution_count": 27,
   "metadata": {},
   "outputs": [
    {
     "data": {
      "image/png": "[encoded data removed]",
      "text/plain": [
       "<Figure size 432x288 with 1 Axes>"
      ]
     },
     "metadata": {
      "needs_background": "light"
     },
     "output_type": "display_data"
    }
   ],
   "source": [
    "import matplotlib.pyplot as plt\n",
    "count, bins, ignored = plt.hist(x, 14, density=True)\n",
    "plt.show()"
   ]
  },
  {
   "cell_type": "markdown",
   "metadata": {},
   "source": [
    "The above code creates a random sample from the Poisson distribution, the sample is then depicted using a histogram. A Poisson experiment, can be utilised in order to calculate the probability of a successful outcome occuring.\n",
    "\n",
    "E.g. The average number of homes sold by the Acme Realty company is 2 homes per day. Based on this information a Poisson experiment could be used to calculate the probability of exactly 3 homes being sold tomorrow.[9]   "
   ]
  },
  {
   "cell_type": "markdown",
   "metadata": {},
   "source": [
    "***"
   ]
  },
  {
   "cell_type": "markdown",
   "metadata": {},
   "source": [
    "## Explanation and usage of seeds in generating pseduorandom numbers"
   ]
  },
  {
   "cell_type": "markdown",
   "metadata": {},
   "source": [
    "A seed can be viewed as an initial starting point or root, at which a random number generator can utilise as a reference point to spawn iterations of pseudorandom random numbers from. Utilisation of a seed, highlights the fact that the exectution of a random number generator, results in outputs of pseudorandom numbers that are deterministic by nature."
   ]
  },
  {
   "cell_type": "code",
   "execution_count": 28,
   "metadata": {},
   "outputs": [
    {
     "data": {
      "text/plain": [
       "Generator(PCG64) at 0x182187ACE50"
      ]
     },
     "execution_count": 28,
     "metadata": {},
     "output_type": "execute_result"
    }
   ],
   "source": [
    "import numpy as np\n",
    "np.random.default_rng()"
   ]
  },
  {
   "cell_type": "markdown",
   "metadata": {},
   "source": [
    "Recent changes have occured within the documentation of numpy.random, where the default algorithm has changed from the Mersenne Twister to PCG64. Since Numpy version 1.17.0 the Generator can be initialized with a number of different BitGenerators.[10] By default, Generator uses bits provided by PCG64 which has better statistical properties than the legacy MT19937 used in RandomState.[11]\n",
    "\n",
    "PCG64 makes a guarantee that a fixed seed and will always produce the same random integer stream.[12]"
   ]
  },
  {
   "cell_type": "code",
   "execution_count": 29,
   "metadata": {},
   "outputs": [
    {
     "data": {
      "text/plain": [
       "array([0.22733602, 0.31675834, 0.79736546, 0.67625467, 0.39110955])"
      ]
     },
     "execution_count": 29,
     "metadata": {},
     "output_type": "execute_result"
    }
   ],
   "source": [
    "from numpy.random import default_rng\n",
    "rg = default_rng(12345)\n",
    "rg.random(5)"
   ]
  },
  {
   "cell_type": "code",
   "execution_count": 30,
   "metadata": {},
   "outputs": [
    {
     "data": {
      "text/plain": [
       "array([0.22733602, 0.31675834, 0.79736546, 0.67625467, 0.39110955])"
      ]
     },
     "execution_count": 30,
     "metadata": {},
     "output_type": "execute_result"
    }
   ],
   "source": [
    "from numpy.random import default_rng\n",
    "rg = default_rng(12345)\n",
    "rg.random(5)"
   ]
  },
  {
   "cell_type": "markdown",
   "metadata": {},
   "source": [
    "The above code depicts the usage of a seed \"12345\", despite calling for 5 random numbers to be outputted within two different instances of code. Usage of the seeds acts as a reference point and the same numbers are outputted from each line of code."
   ]
  },
  {
   "cell_type": "code",
   "execution_count": 31,
   "metadata": {},
   "outputs": [
    {
     "data": {
      "text/plain": [
       "57827753888750293824398715549009041377"
      ]
     },
     "execution_count": 31,
     "metadata": {},
     "output_type": "execute_result"
    }
   ],
   "source": [
    "#SeedSequence.entropy\n",
    "np.random.SeedSequence().entropy"
   ]
  },
  {
   "cell_type": "code",
   "execution_count": 32,
   "metadata": {},
   "outputs": [
    {
     "data": {
      "text/plain": [
       "0.5118216247002567"
      ]
     },
     "execution_count": 32,
     "metadata": {},
     "output_type": "execute_result"
    }
   ],
   "source": [
    "from numpy.random import Generator, PCG64\n",
    "rg = Generator(PCG64(1))\n",
    "rg.random()"
   ]
  },
  {
   "cell_type": "code",
   "execution_count": 33,
   "metadata": {},
   "outputs": [
    {
     "data": {
      "text/plain": [
       "0.5118216247002567"
      ]
     },
     "execution_count": 33,
     "metadata": {},
     "output_type": "execute_result"
    }
   ],
   "source": [
    "from numpy.random import Generator, PCG64\n",
    "rg = Generator(PCG64(1))\n",
    "rg.random()"
   ]
  },
  {
   "cell_type": "code",
   "execution_count": 34,
   "metadata": {},
   "outputs": [
    {
     "data": {
      "text/plain": [
       "0.9151842775686101"
      ]
     },
     "execution_count": 34,
     "metadata": {},
     "output_type": "execute_result"
    }
   ],
   "source": [
    "from numpy.random import Generator, PCG64\n",
    "rg = Generator(PCG64())\n",
    "rg.random()"
   ]
  },
  {
   "cell_type": "markdown",
   "metadata": {},
   "source": [
    "_A comparison in the contrast between the three lines of code above._\n",
    "\n",
    "Although similar code as been used in both instances, removal of the seed \"1\", results in a different output as no seed is used as a reference to spawn a pseudorandom number from."
   ]
  },
  {
   "cell_type": "markdown",
   "metadata": {},
   "source": [
    "***"
   ]
  },
  {
   "cell_type": "markdown",
   "metadata": {},
   "source": [
    "### This Jupyter Notebook, aims to serve as a more intuitive approach to comprehending how one could utilise the subpackage _numpy.random_ from within the Numpy library."
   ]
  },
  {
   "cell_type": "markdown",
   "metadata": {},
   "source": [
    "## References"
   ]
  },
  {
   "cell_type": "markdown",
   "metadata": {},
   "source": [
    "[1] What is NumPy?; numpy.org documentation, NumPy v1.19 Manual, setting up; https://numpy.org/doc/stable/user/whatisnumpy.html\n",
    "\n",
    "[2] Expressing the role of a BitGenerator and a Generator; NumPy v1.19 Manual, Random sampling (numpy.random); https://numpy.org/doc/stable/reference/random/index.html\n",
    "\n",
    "[3] Usage of chi-square distribution; NumPy v1.19 Manual, Generator.chisquare; https://numpy.org/doc/stable/reference/random/generated/numpy.random.Generator.chisquare.html#numpy.random.Generator.chisquare\n",
    "\n",
    "[4] Visualization of Chi Square Distribution; w3schools Chi Square distribution; https://www.w3schools.com/python/numpy_random_chisquare.asp\n",
    "\n",
    "[5] Online statistical book; Author David M. Lane, Chi Square Distribution; http://onlinestatbook.com/2/chi_square/distribution.html\n",
    "\n",
    "[6] numpy.random.Generator.uniform; NumPy v1.19 Manual, explanation of uniform distribution; https://numpy.org/doc/stable/reference/random/generated/numpy.random.Generator.uniform.html#numpy.random.Generator.uniform\n",
    "\n",
    "[7] Binomial Distribution: Formula, What it is and How to use it; statistics how to, What is a Binomial Distribution?; https://www.statisticshowto.com/probability-and-statistics/binomial-theorem/binomial-distribution-formula/\n",
    "\n",
    "[8] Multinomial Distribution; NumPy v1.19 Manual, explanation of a multinomial distribution;\n",
    "https://numpy.org/doc/stable/reference/random/generated/numpy.random.Generator.multinomial.html#numpy.random.Generator.multinomial\n",
    "\n",
    "[9] Poisson Distribution; Stat Trek, explanation of the Poisson Distribution; https://stattrek.com/probability-distributions/poisson.aspx\n",
    "\n",
    "[10] Generator initialisation; Random sampling (numpy.random), NumPy v1.19 Manual; https://numpy.org/doc/stable/reference/random/index.html\n",
    "\n",
    "[11] PCG64 Statistical properties; Random sampling (numpy.random), NumPy v1.19 Manual; https://numpy.org/doc/stable/reference/random/index.html\n",
    "\n",
    "[12] Permuted Congruential Generator (64-bit, PCG64); Compatibility Guarantee, NumPy v1.19 Manual; https://numpy.org/doc/stable/reference/random/bit_generators/pcg64.html#numpy.random.PCG64\n",
    "\n",
    "\n",
    "\n"
   ]
  }
 ],
 "metadata": {
  "kernelspec": {
   "display_name": "Python 3",
   "language": "python",
   "name": "python3"
  },
  "language_info": {
   "codemirror_mode": {
    "name": "ipython",
    "version": 3
   },
   "file_extension": ".py",
   "mimetype": "text/x-python",
   "name": "python",
   "nbconvert_exporter": "python",
   "pygments_lexer": "ipython3",
   "version": "3.8.5"
  }
 },
 "nbformat": 4,
 "nbformat_minor": 4
}
