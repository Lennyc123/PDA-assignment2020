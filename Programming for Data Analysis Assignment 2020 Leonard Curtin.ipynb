{
 "cells": [
  {
   "cell_type": "markdown",
   "metadata": {},
   "source": [
    "Programming for Data Analysis Assignment 2020, Authored by Leonard Curtin\n"
   ]
  },
  {
   "cell_type": "markdown",
   "metadata": {},
   "source": [
    "The overarching aim of the following assignment is to convey the manner in which the _numpy.random_ package within _Python_ can be utilised."
   ]
  },
  {
   "cell_type": "markdown",
   "metadata": {},
   "source": [
    "The overall purpose of the package."
   ]
  },
  {
   "cell_type": "markdown",
   "metadata": {},
   "source": [
    "\"NumPy is the fundamental package for scientific computing in Python\". [1]\n",
    "\n",
    "Numpy.random acts as a sub package of the NumPy library. Numpy.random allows for the creation of pseudo random numbers to occur. This process occurs through the usage of both a BitGenerator and a Generator.\n",
    "BitGenerators are objects that create random numbers.\n",
    "Generators utitilse the sequences from BitGenerators to sample from a series of probability distrubtions.\n",
    "\n",
    "The ability to create pseudo random numbers, is highly beneficial in allowing one to run simulations of a proposed data set i.e. mimicing the values of an environment can allow one to compare and contrast with their preconcevived notions in relation to how a specific set of variables may interact with eachother. Simulation envrionments can potientally allow for more accurate predictive forcasting to occur.\n",
    "\n"
   ]
  },
  {
   "cell_type": "code",
   "execution_count": null,
   "metadata": {},
   "outputs": [],
   "source": []
  },
  {
   "cell_type": "markdown",
   "metadata": {},
   "source": [
    "Usage of the “simple random data” and “Permutations” functions"
   ]
  },
  {
   "cell_type": "code",
   "execution_count": null,
   "metadata": {},
   "outputs": [],
   "source": []
  },
  {
   "cell_type": "markdown",
   "metadata": {},
   "source": [
    "Usage and purpose of at least five “Distrubitions” functions"
   ]
  },
  {
   "cell_type": "code",
   "execution_count": null,
   "metadata": {},
   "outputs": [],
   "source": []
  },
  {
   "cell_type": "markdown",
   "metadata": {},
   "source": [
    "Explanation and usage of seeds in generating pseduorandom numbers"
   ]
  },
  {
   "cell_type": "code",
   "execution_count": null,
   "metadata": {},
   "outputs": [],
   "source": []
  },
  {
   "cell_type": "markdown",
   "metadata": {},
   "source": [
    "References"
   ]
  },
  {
   "cell_type": "markdown",
   "metadata": {},
   "source": [
    "[1] What is NumPy?; numpy.org documentation, NumPy v1.19 Manual, setting up; https://numpy.org/doc/stable/user/whatisnumpy.html"
   ]
  },
  {
   "cell_type": "code",
   "execution_count": null,
   "metadata": {},
   "outputs": [],
   "source": []
  }
 ],
 "metadata": {
  "kernelspec": {
   "display_name": "Python 3",
   "language": "python",
   "name": "python3"
  },
  "language_info": {
   "codemirror_mode": {
    "name": "ipython",
    "version": 3
   },
   "file_extension": ".py",
   "mimetype": "text/x-python",
   "name": "python",
   "nbconvert_exporter": "python",
   "pygments_lexer": "ipython3",
   "version": "3.8.3"
  }
 },
 "nbformat": 4,
 "nbformat_minor": 4
}
